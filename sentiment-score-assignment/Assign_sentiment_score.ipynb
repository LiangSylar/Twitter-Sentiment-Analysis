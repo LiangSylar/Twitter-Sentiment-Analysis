{
  "nbformat": 4,
  "nbformat_minor": 0,
  "metadata": {
    "colab": {
      "provenance": []
    },
    "kernelspec": {
      "name": "python3",
      "display_name": "Python 3"
    },
    "language_info": {
      "name": "python"
    }
  },
  "cells": [
    {
      "cell_type": "code",
      "execution_count": null,
      "metadata": {
        "id": "4CysP6lAyjWf"
      },
      "outputs": [],
      "source": [
        "# Task:\n",
        "# 1. load the best model (highest accuracy on test data)\n",
        "# 2. load the raw data and preprocess it\n",
        "# 3. apply the loaded classifier to assign sentiment score\n",
        "# 4. save the data"
      ]
    },
    {
      "cell_type": "code",
      "source": [
        "# Import necessary libraries\n",
        "import numpy as np\n",
        "import pandas as pd\n",
        "from keras.models import load_model\n",
        "from keras.preprocessing.text import Tokenizer\n",
        "from keras.preprocessing.sequence import pad_sequences\n",
        "from sklearn.preprocessing import LabelEncoder\n",
        "\n"
      ],
      "metadata": {
        "id": "pLdlufjUzX0H"
      },
      "execution_count": null,
      "outputs": []
    },
    {
      "cell_type": "code",
      "source": [
        "from google.colab import drive\n",
        "drive.mount('/content/drive')\n",
        "%cd /content/drive/MyDrive/Sentiment_Analysis"
      ],
      "metadata": {
        "colab": {
          "base_uri": "https://localhost:8080/"
        },
        "id": "GWJelyrHf626",
        "outputId": "6cd048eb-3320-4a6c-9438-d026540cca04"
      },
      "execution_count": null,
      "outputs": [
        {
          "output_type": "stream",
          "name": "stdout",
          "text": [
            "Drive already mounted at /content/drive; to attempt to forcibly remount, call drive.mount(\"/content/drive\", force_remount=True).\n",
            "/content/drive/MyDrive/Sentiment_Analysis\n"
          ]
        }
      ]
    },
    {
      "cell_type": "code",
      "source": [
        "# Task 1: Load the best model (highest accuracy on test data)\n",
        "best_model_path = 'saved_models/RNN.h5'\n",
        "model = load_model(best_model_path)\n",
        "print(\"Model loaded successfully.\")\n"
      ],
      "metadata": {
        "id": "5cugYkgr79rr",
        "colab": {
          "base_uri": "https://localhost:8080/"
        },
        "outputId": "1c67b8d5-1ea7-4102-a6da-4fdd9bd10fe6"
      },
      "execution_count": null,
      "outputs": [
        {
          "output_type": "stream",
          "name": "stdout",
          "text": [
            "Model loaded successfully.\n"
          ]
        }
      ]
    },
    {
      "cell_type": "code",
      "source": [
        "# Task 2: Load the raw data and preprocess it. Suppose the data has been preprocessed.\n",
        "\n",
        "# Load data\n",
        "# data_path = 'data/preprocessed_test.csv'\n",
        "data_path = 'data/first_100000_rows_processed.csv'\n",
        "df = pd.read_csv(data_path)\n",
        "# Preprocess the raw data\n",
        "# Tokenization and padding (Assuming a max sequence length of 100)\n",
        "max_seq_length = 100\n",
        "tokenizer = Tokenizer(num_words=5000)\n",
        "tokenizer.fit_on_texts(df['text'])\n",
        "sequences = tokenizer.texts_to_sequences(df['text'])\n",
        "padded_sequences = pad_sequences(sequences, maxlen=max_seq_length)"
      ],
      "metadata": {
        "id": "K47yv_U935tG"
      },
      "execution_count": null,
      "outputs": []
    },
    {
      "cell_type": "code",
      "source": [
        "# Task 3: Apply the loaded classifier to assign sentiment score\n",
        "# Assuming the model outputs probabilities for binary classification (e.g., positive/negative sentiment)\n",
        "sentiment_scores = model.predict(padded_sequences)"
      ],
      "metadata": {
        "id": "eM0RXO4r37rS",
        "colab": {
          "base_uri": "https://localhost:8080/"
        },
        "outputId": "fd73aeb7-b84f-4c31-b767-0fe06d87ad77"
      },
      "execution_count": null,
      "outputs": [
        {
          "output_type": "stream",
          "name": "stdout",
          "text": [
            "3126/3126 [==============================] - 34s 11ms/step\n"
          ]
        }
      ]
    },
    {
      "cell_type": "code",
      "source": [
        "df = df.assign(sentiment_pred = np.argmax(sentiment_scores, axis=-1)-1)\n",
        "print(df.head())"
      ],
      "metadata": {
        "colab": {
          "base_uri": "https://localhost:8080/"
        },
        "id": "g9ZfVfObIp1h",
        "outputId": "dcf0b826-eb0c-4faa-a572-2927eb66b077"
      },
      "execution_count": null,
      "outputs": [
        {
          "output_type": "stream",
          "name": "stdout",
          "text": [
            "   score          id                          time    action             user  \\\n",
            "0      0  1467810369  Mon Apr 06 22:19:45 PDT 2009  NO_QUERY  _TheSpecialOne_   \n",
            "1      0  1467810672  Mon Apr 06 22:19:49 PDT 2009  NO_QUERY    scotthamilton   \n",
            "2      0  1467810917  Mon Apr 06 22:19:53 PDT 2009  NO_QUERY         mattycus   \n",
            "3      0  1467811184  Mon Apr 06 22:19:57 PDT 2009  NO_QUERY          ElleCTF   \n",
            "4      0  1467811193  Mon Apr 06 22:19:57 PDT 2009  NO_QUERY           Karoli   \n",
            "\n",
            "                                                text  sentiment_pred  \n",
            "0  ['switchfoot', 'awww', 'thats', 'a', 'bummer',...               1  \n",
            "1  ['is', 'upset', 'that', 'he', 'cant', 'update'...               0  \n",
            "2  ['kenichan', 'i', 'dived', 'many', 'times', 'f...               0  \n",
            "3  ['my', 'whole', 'body', 'feels', 'itchy', 'and...              -1  \n",
            "4  ['nationwideclass', 'no', 'its', 'not', 'behav...               0  \n"
          ]
        }
      ]
    },
    {
      "cell_type": "code",
      "source": [
        "# Task 4: Save the data\n",
        "# Save the data with sentiment scores to a new CSV file\n",
        "output_data_path = 'data/first_100000_rows_assigned.csv'\n",
        "df.to_csv(output_data_path, index=False)\n",
        "print(\"Data saved successfully.\")"
      ],
      "metadata": {
        "id": "HU42ilJS38am",
        "colab": {
          "base_uri": "https://localhost:8080/"
        },
        "outputId": "de2cbb1e-f3e9-4204-93b2-b007b069556c"
      },
      "execution_count": null,
      "outputs": [
        {
          "output_type": "stream",
          "name": "stdout",
          "text": [
            "Data saved successfully.\n"
          ]
        }
      ]
    }
  ]
}