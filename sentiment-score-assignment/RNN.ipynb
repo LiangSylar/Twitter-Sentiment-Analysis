{
  "cells": [
    {
      "cell_type": "code",
      "execution_count": null,
      "metadata": {
        "id": "XnIpJnkHuT-D"
      },
      "outputs": [],
      "source": [
        "import pandas as pd\n",
        "import os\n",
        "import numpy as np\n",
        "from sklearn.model_selection import train_test_split\n",
        "import gensim\n",
        "from gensim.models.word2vec import Word2Vec\n",
        "import gensim.downloader as api\n",
        "from keras.utils import to_categorical\n",
        "import matplotlib.pyplot as plt\n",
        "import keras\n",
        "from time import time\n",
        "import tensorflow as tf\n"
      ]
    },
    {
      "cell_type": "code",
      "execution_count": null,
      "metadata": {
        "colab": {
          "base_uri": "https://localhost:8080/"
        },
        "id": "zsRyLEWn1JxO",
        "outputId": "e33abc72-5b12-4f75-d2d4-8b1dac77c053"
      },
      "outputs": [
        {
          "output_type": "stream",
          "name": "stdout",
          "text": [
            "Drive already mounted at /content/drive; to attempt to forcibly remount, call drive.mount(\"/content/drive\", force_remount=True).\n"
          ]
        }
      ],
      "source": [
        "from google.colab import drive\n",
        "drive.mount('/content/drive')"
      ]
    },
    {
      "cell_type": "code",
      "execution_count": null,
      "metadata": {
        "colab": {
          "base_uri": "https://localhost:8080/"
        },
        "id": "U2-4QOPe1QIN",
        "outputId": "c0b138e6-852d-4949-cdf3-3aaba5c23c98"
      },
      "outputs": [
        {
          "output_type": "stream",
          "name": "stdout",
          "text": [
            "/content/drive/MyDrive/Sentiment_Analysis\n"
          ]
        }
      ],
      "source": [
        "%cd /content/drive/MyDrive/Sentiment_Analysis"
      ]
    },
    {
      "cell_type": "code",
      "execution_count": null,
      "metadata": {
        "id": "sEBirsml1Hgu"
      },
      "outputs": [],
      "source": [
        "# # case 1: use full text\n",
        "# case = \"case1-rnn\"\n",
        "\n",
        "# #read data\n",
        "# df = pd.read_csv(\"data/preprocessed_train.csv\")\n",
        "# df.text = df.text.map(lambda x:str(x))\n",
        "# df.sentiment = df.sentiment.astype(\"category\")\n",
        "# df.sentiment = df.sentiment.cat.codes\n",
        "# df.head()"
      ]
    },
    {
      "cell_type": "code",
      "execution_count": null,
      "metadata": {
        "colab": {
          "base_uri": "https://localhost:8080/",
          "height": 206
        },
        "id": "wxc2J9Gr2bQ-",
        "outputId": "01255e44-d8dd-45be-97de-6309c235a367"
      },
      "outputs": [
        {
          "output_type": "execute_result",
          "data": {
            "text/plain": [
              "       textID                                               text  \\\n",
              "0  cb774db0d1  ['id', 'have', 'responded', 'if', 'i', 'were',...   \n",
              "1  549e992a42  ['sooo', 'sad', 'i', 'will', 'miss', 'you', 'h...   \n",
              "2  088c60f138             ['my', 'boss', 'is', 'bullying', 'me']   \n",
              "3  9642c003ef      ['what', 'interview', 'leave', 'me', 'alone']   \n",
              "4  358bd9e861  ['sons', 'of', 'why', 'couldnt', 'they', 'put'...   \n",
              "\n",
              "                                       selected_text  sentiment  \n",
              "0  ['id', 'have', 'responded', 'if', 'i', 'were',...          1  \n",
              "1                                    ['sooo', 'sad']          0  \n",
              "2                                 ['bullying', 'me']          0  \n",
              "3                           ['leave', 'me', 'alone']          0  \n",
              "4                                     ['sons', 'of']          0  "
            ],
            "text/html": [
              "\n",
              "  <div id=\"df-0ef07569-331d-445a-8fa8-700456367403\" class=\"colab-df-container\">\n",
              "    <div>\n",
              "<style scoped>\n",
              "    .dataframe tbody tr th:only-of-type {\n",
              "        vertical-align: middle;\n",
              "    }\n",
              "\n",
              "    .dataframe tbody tr th {\n",
              "        vertical-align: top;\n",
              "    }\n",
              "\n",
              "    .dataframe thead th {\n",
              "        text-align: right;\n",
              "    }\n",
              "</style>\n",
              "<table border=\"1\" class=\"dataframe\">\n",
              "  <thead>\n",
              "    <tr style=\"text-align: right;\">\n",
              "      <th></th>\n",
              "      <th>textID</th>\n",
              "      <th>text</th>\n",
              "      <th>selected_text</th>\n",
              "      <th>sentiment</th>\n",
              "    </tr>\n",
              "  </thead>\n",
              "  <tbody>\n",
              "    <tr>\n",
              "      <th>0</th>\n",
              "      <td>cb774db0d1</td>\n",
              "      <td>['id', 'have', 'responded', 'if', 'i', 'were',...</td>\n",
              "      <td>['id', 'have', 'responded', 'if', 'i', 'were',...</td>\n",
              "      <td>1</td>\n",
              "    </tr>\n",
              "    <tr>\n",
              "      <th>1</th>\n",
              "      <td>549e992a42</td>\n",
              "      <td>['sooo', 'sad', 'i', 'will', 'miss', 'you', 'h...</td>\n",
              "      <td>['sooo', 'sad']</td>\n",
              "      <td>0</td>\n",
              "    </tr>\n",
              "    <tr>\n",
              "      <th>2</th>\n",
              "      <td>088c60f138</td>\n",
              "      <td>['my', 'boss', 'is', 'bullying', 'me']</td>\n",
              "      <td>['bullying', 'me']</td>\n",
              "      <td>0</td>\n",
              "    </tr>\n",
              "    <tr>\n",
              "      <th>3</th>\n",
              "      <td>9642c003ef</td>\n",
              "      <td>['what', 'interview', 'leave', 'me', 'alone']</td>\n",
              "      <td>['leave', 'me', 'alone']</td>\n",
              "      <td>0</td>\n",
              "    </tr>\n",
              "    <tr>\n",
              "      <th>4</th>\n",
              "      <td>358bd9e861</td>\n",
              "      <td>['sons', 'of', 'why', 'couldnt', 'they', 'put'...</td>\n",
              "      <td>['sons', 'of']</td>\n",
              "      <td>0</td>\n",
              "    </tr>\n",
              "  </tbody>\n",
              "</table>\n",
              "</div>\n",
              "    <div class=\"colab-df-buttons\">\n",
              "\n",
              "  <div class=\"colab-df-container\">\n",
              "    <button class=\"colab-df-convert\" onclick=\"convertToInteractive('df-0ef07569-331d-445a-8fa8-700456367403')\"\n",
              "            title=\"Convert this dataframe to an interactive table.\"\n",
              "            style=\"display:none;\">\n",
              "\n",
              "  <svg xmlns=\"http://www.w3.org/2000/svg\" height=\"24px\" viewBox=\"0 -960 960 960\">\n",
              "    <path d=\"M120-120v-720h720v720H120Zm60-500h600v-160H180v160Zm220 220h160v-160H400v160Zm0 220h160v-160H400v160ZM180-400h160v-160H180v160Zm440 0h160v-160H620v160ZM180-180h160v-160H180v160Zm440 0h160v-160H620v160Z\"/>\n",
              "  </svg>\n",
              "    </button>\n",
              "\n",
              "  <style>\n",
              "    .colab-df-container {\n",
              "      display:flex;\n",
              "      gap: 12px;\n",
              "    }\n",
              "\n",
              "    .colab-df-convert {\n",
              "      background-color: #E8F0FE;\n",
              "      border: none;\n",
              "      border-radius: 50%;\n",
              "      cursor: pointer;\n",
              "      display: none;\n",
              "      fill: #1967D2;\n",
              "      height: 32px;\n",
              "      padding: 0 0 0 0;\n",
              "      width: 32px;\n",
              "    }\n",
              "\n",
              "    .colab-df-convert:hover {\n",
              "      background-color: #E2EBFA;\n",
              "      box-shadow: 0px 1px 2px rgba(60, 64, 67, 0.3), 0px 1px 3px 1px rgba(60, 64, 67, 0.15);\n",
              "      fill: #174EA6;\n",
              "    }\n",
              "\n",
              "    .colab-df-buttons div {\n",
              "      margin-bottom: 4px;\n",
              "    }\n",
              "\n",
              "    [theme=dark] .colab-df-convert {\n",
              "      background-color: #3B4455;\n",
              "      fill: #D2E3FC;\n",
              "    }\n",
              "\n",
              "    [theme=dark] .colab-df-convert:hover {\n",
              "      background-color: #434B5C;\n",
              "      box-shadow: 0px 1px 3px 1px rgba(0, 0, 0, 0.15);\n",
              "      filter: drop-shadow(0px 1px 2px rgba(0, 0, 0, 0.3));\n",
              "      fill: #FFFFFF;\n",
              "    }\n",
              "  </style>\n",
              "\n",
              "    <script>\n",
              "      const buttonEl =\n",
              "        document.querySelector('#df-0ef07569-331d-445a-8fa8-700456367403 button.colab-df-convert');\n",
              "      buttonEl.style.display =\n",
              "        google.colab.kernel.accessAllowed ? 'block' : 'none';\n",
              "\n",
              "      async function convertToInteractive(key) {\n",
              "        const element = document.querySelector('#df-0ef07569-331d-445a-8fa8-700456367403');\n",
              "        const dataTable =\n",
              "          await google.colab.kernel.invokeFunction('convertToInteractive',\n",
              "                                                    [key], {});\n",
              "        if (!dataTable) return;\n",
              "\n",
              "        const docLinkHtml = 'Like what you see? Visit the ' +\n",
              "          '<a target=\"_blank\" href=https://colab.research.google.com/notebooks/data_table.ipynb>data table notebook</a>'\n",
              "          + ' to learn more about interactive tables.';\n",
              "        element.innerHTML = '';\n",
              "        dataTable['output_type'] = 'display_data';\n",
              "        await google.colab.output.renderOutput(dataTable, element);\n",
              "        const docLink = document.createElement('div');\n",
              "        docLink.innerHTML = docLinkHtml;\n",
              "        element.appendChild(docLink);\n",
              "      }\n",
              "    </script>\n",
              "  </div>\n",
              "\n",
              "\n",
              "<div id=\"df-fb60d607-1bc5-4c55-a4e0-5b2bc4cd9693\">\n",
              "  <button class=\"colab-df-quickchart\" onclick=\"quickchart('df-fb60d607-1bc5-4c55-a4e0-5b2bc4cd9693')\"\n",
              "            title=\"Suggest charts\"\n",
              "            style=\"display:none;\">\n",
              "\n",
              "<svg xmlns=\"http://www.w3.org/2000/svg\" height=\"24px\"viewBox=\"0 0 24 24\"\n",
              "     width=\"24px\">\n",
              "    <g>\n",
              "        <path d=\"M19 3H5c-1.1 0-2 .9-2 2v14c0 1.1.9 2 2 2h14c1.1 0 2-.9 2-2V5c0-1.1-.9-2-2-2zM9 17H7v-7h2v7zm4 0h-2V7h2v10zm4 0h-2v-4h2v4z\"/>\n",
              "    </g>\n",
              "</svg>\n",
              "  </button>\n",
              "\n",
              "<style>\n",
              "  .colab-df-quickchart {\n",
              "      --bg-color: #E8F0FE;\n",
              "      --fill-color: #1967D2;\n",
              "      --hover-bg-color: #E2EBFA;\n",
              "      --hover-fill-color: #174EA6;\n",
              "      --disabled-fill-color: #AAA;\n",
              "      --disabled-bg-color: #DDD;\n",
              "  }\n",
              "\n",
              "  [theme=dark] .colab-df-quickchart {\n",
              "      --bg-color: #3B4455;\n",
              "      --fill-color: #D2E3FC;\n",
              "      --hover-bg-color: #434B5C;\n",
              "      --hover-fill-color: #FFFFFF;\n",
              "      --disabled-bg-color: #3B4455;\n",
              "      --disabled-fill-color: #666;\n",
              "  }\n",
              "\n",
              "  .colab-df-quickchart {\n",
              "    background-color: var(--bg-color);\n",
              "    border: none;\n",
              "    border-radius: 50%;\n",
              "    cursor: pointer;\n",
              "    display: none;\n",
              "    fill: var(--fill-color);\n",
              "    height: 32px;\n",
              "    padding: 0;\n",
              "    width: 32px;\n",
              "  }\n",
              "\n",
              "  .colab-df-quickchart:hover {\n",
              "    background-color: var(--hover-bg-color);\n",
              "    box-shadow: 0 1px 2px rgba(60, 64, 67, 0.3), 0 1px 3px 1px rgba(60, 64, 67, 0.15);\n",
              "    fill: var(--button-hover-fill-color);\n",
              "  }\n",
              "\n",
              "  .colab-df-quickchart-complete:disabled,\n",
              "  .colab-df-quickchart-complete:disabled:hover {\n",
              "    background-color: var(--disabled-bg-color);\n",
              "    fill: var(--disabled-fill-color);\n",
              "    box-shadow: none;\n",
              "  }\n",
              "\n",
              "  .colab-df-spinner {\n",
              "    border: 2px solid var(--fill-color);\n",
              "    border-color: transparent;\n",
              "    border-bottom-color: var(--fill-color);\n",
              "    animation:\n",
              "      spin 1s steps(1) infinite;\n",
              "  }\n",
              "\n",
              "  @keyframes spin {\n",
              "    0% {\n",
              "      border-color: transparent;\n",
              "      border-bottom-color: var(--fill-color);\n",
              "      border-left-color: var(--fill-color);\n",
              "    }\n",
              "    20% {\n",
              "      border-color: transparent;\n",
              "      border-left-color: var(--fill-color);\n",
              "      border-top-color: var(--fill-color);\n",
              "    }\n",
              "    30% {\n",
              "      border-color: transparent;\n",
              "      border-left-color: var(--fill-color);\n",
              "      border-top-color: var(--fill-color);\n",
              "      border-right-color: var(--fill-color);\n",
              "    }\n",
              "    40% {\n",
              "      border-color: transparent;\n",
              "      border-right-color: var(--fill-color);\n",
              "      border-top-color: var(--fill-color);\n",
              "    }\n",
              "    60% {\n",
              "      border-color: transparent;\n",
              "      border-right-color: var(--fill-color);\n",
              "    }\n",
              "    80% {\n",
              "      border-color: transparent;\n",
              "      border-right-color: var(--fill-color);\n",
              "      border-bottom-color: var(--fill-color);\n",
              "    }\n",
              "    90% {\n",
              "      border-color: transparent;\n",
              "      border-bottom-color: var(--fill-color);\n",
              "    }\n",
              "  }\n",
              "</style>\n",
              "\n",
              "  <script>\n",
              "    async function quickchart(key) {\n",
              "      const quickchartButtonEl =\n",
              "        document.querySelector('#' + key + ' button');\n",
              "      quickchartButtonEl.disabled = true;  // To prevent multiple clicks.\n",
              "      quickchartButtonEl.classList.add('colab-df-spinner');\n",
              "      try {\n",
              "        const charts = await google.colab.kernel.invokeFunction(\n",
              "            'suggestCharts', [key], {});\n",
              "      } catch (error) {\n",
              "        console.error('Error during call to suggestCharts:', error);\n",
              "      }\n",
              "      quickchartButtonEl.classList.remove('colab-df-spinner');\n",
              "      quickchartButtonEl.classList.add('colab-df-quickchart-complete');\n",
              "    }\n",
              "    (() => {\n",
              "      let quickchartButtonEl =\n",
              "        document.querySelector('#df-fb60d607-1bc5-4c55-a4e0-5b2bc4cd9693 button');\n",
              "      quickchartButtonEl.style.display =\n",
              "        google.colab.kernel.accessAllowed ? 'block' : 'none';\n",
              "    })();\n",
              "  </script>\n",
              "</div>\n",
              "\n",
              "    </div>\n",
              "  </div>\n"
            ],
            "application/vnd.google.colaboratory.intrinsic+json": {
              "type": "dataframe",
              "variable_name": "df",
              "summary": "{\n  \"name\": \"df\",\n  \"rows\": 27480,\n  \"fields\": [\n    {\n      \"column\": \"textID\",\n      \"properties\": {\n        \"dtype\": \"string\",\n        \"num_unique_values\": 27480,\n        \"samples\": [\n          \"6c5505a37c\",\n          \"126b1e6a22\",\n          \"5bc4e623c4\"\n        ],\n        \"semantic_type\": \"\",\n        \"description\": \"\"\n      }\n    },\n    {\n      \"column\": \"text\",\n      \"properties\": {\n        \"dtype\": \"string\",\n        \"num_unique_values\": 27209,\n        \"samples\": [\n          \"['so', 'tired']\",\n          \"['dinner', 'with', 'the', 'parental', 'unit', 'is', 'always', 'grand']\",\n          \"['trying', 'to', 'find', 'some', 'friends', 'and', 'not', 'having', 'any', 'luck']\"\n        ],\n        \"semantic_type\": \"\",\n        \"description\": \"\"\n      }\n    },\n    {\n      \"column\": \"selected_text\",\n      \"properties\": {\n        \"dtype\": \"string\",\n        \"num_unique_values\": 20887,\n        \"samples\": [\n          \"['today', 'we', 'say', 'goodbye', 'to', 'the', 'second', 'good', 'friend', 'in', 'a', 'week', 'from', 'dmp', 'but', 'at', 'least', 'the', 'sun', 'is', 'shinning', 'and', 'im', 'definately', 'not', 'working', 'this', 'pm']\",\n          \"['im', 'real']\",\n          \"['friday', 'night', 'and', 'still', 'workingoh', 'waitits', 'saturday', 'morning', 'already']\"\n        ],\n        \"semantic_type\": \"\",\n        \"description\": \"\"\n      }\n    },\n    {\n      \"column\": \"sentiment\",\n      \"properties\": {\n        \"dtype\": \"int8\",\n        \"num_unique_values\": 3,\n        \"samples\": [\n          1,\n          0,\n          2\n        ],\n        \"semantic_type\": \"\",\n        \"description\": \"\"\n      }\n    }\n  ]\n}"
            }
          },
          "metadata": {},
          "execution_count": 4
        }
      ],
      "source": [
        "# case 2: use selected text\n",
        "case = \"case2-rnn\"\n",
        "\n",
        "#read data\n",
        "df = pd.read_csv(\"data/preprocessed_train.csv\")\n",
        "df.selected_text = df.selected_text.map(lambda x:str(x))\n",
        "df.sentiment = df.sentiment.astype(\"category\")\n",
        "df.sentiment = df.sentiment.cat.codes\n",
        "df.head()"
      ]
    },
    {
      "cell_type": "code",
      "source": [
        "# Ensure GPU usage\n",
        "physical_devices = tf.config.list_physical_devices('GPU')\n",
        "if len(physical_devices) > 0:\n",
        "    try:\n",
        "        tf.config.experimental.set_memory_growth(physical_devices[0], True)\n",
        "        print(f'Using GPU: {physical_devices[0].name}')\n",
        "    except:\n",
        "        print('Error in setting GPU memory growth')\n",
        "else:\n",
        "    print('No GPU found')"
      ],
      "metadata": {
        "id": "VwRtfnrL6AfS",
        "outputId": "a5bf3cd2-7809-4b80-cc09-992e1e4c3f6f",
        "colab": {
          "base_uri": "https://localhost:8080/"
        }
      },
      "execution_count": null,
      "outputs": [
        {
          "output_type": "stream",
          "name": "stdout",
          "text": [
            "Using GPU: /physical_device:GPU:0\n"
          ]
        }
      ]
    },
    {
      "cell_type": "code",
      "execution_count": null,
      "metadata": {
        "id": "Kiv4fMpy2wVQ"
      },
      "outputs": [],
      "source": [
        "# train, val, test split\n",
        "x_train, xtest, y_train, ytest = train_test_split(df.selected_text.values, df.sentiment.values,stratify=df.sentiment.values, test_size=0.3,random_state=1)\n",
        "y_train = to_categorical(y_train)\n",
        "x_val = xtest[0:4122]\n",
        "y_val = to_categorical(ytest[0:4122])\n",
        "x_test = xtest[4122:]\n",
        "y_test = ytest[4122:]\n",
        "\n",
        "# Find the token list with the maximum length\n",
        "lengths = np.array([len(tokens) for tokens in x_train])\n",
        "max_index = np.argmax(lengths)\n",
        "# print(len(x_train[max_index]), x_train[max_index])\n",
        "\n",
        "#padding and tokenization\n",
        "from keras.preprocessing.text import Tokenizer\n",
        "from keras.preprocessing.sequence import pad_sequences\n",
        "\n",
        "tokenizer = Tokenizer(num_words=5000)\n",
        "tokenizer.fit_on_texts(df.text.values)\n",
        "\n",
        "# Transforms each text in texts to a sequence of integers.\n",
        "x_train = tokenizer.texts_to_sequences(x_train)\n",
        "x_val = tokenizer.texts_to_sequences(x_val)\n",
        "x_test = tokenizer.texts_to_sequences(x_test)\n",
        "# print(len(x_train[max_index]), x_train[max_index])\n",
        "vocab_size = len(tokenizer.word_index) + 1\n",
        "\n",
        "maxlen = 100\n",
        "\n",
        "x_train = pad_sequences(x_train, padding='pre', maxlen=maxlen)\n",
        "x_val = pad_sequences(x_val, padding='pre', maxlen=maxlen)\n",
        "x_test = pad_sequences(x_test, padding='pre', maxlen=maxlen)\n",
        "# print(len(x_train[max_index]), x_train[max_index])\n",
        "word_index = tokenizer.word_index"
      ]
    },
    {
      "cell_type": "code",
      "execution_count": null,
      "metadata": {
        "id": "Z4oLKEuduUTR"
      },
      "outputs": [],
      "source": [
        "from keras.models import Sequential\n",
        "from keras import regularizers\n",
        "from keras.layers import Dense, Dropout, Flatten\n",
        "from keras import layers\n",
        "from sklearn.metrics import accuracy_score, f1_score\n",
        "from keras.layers import Dense, Embedding, LSTM, SpatialDropout1D\n",
        "import os\n",
        "os.environ[\"CUDA_VISIBLE_DEVICES\"] = \"0\"\n",
        "\n"
      ]
    },
    {
      "cell_type": "code",
      "execution_count": null,
      "metadata": {
        "colab": {
          "base_uri": "https://localhost:8080/"
        },
        "id": "CzzsQnK7laER",
        "outputId": "12ee651a-0a78-44ec-e70e-2c4cf5032b51"
      },
      "outputs": [
        {
          "output_type": "stream",
          "name": "stderr",
          "text": [
            "WARNING:tensorflow:From <ipython-input-22-9705bf9877a7>:7: is_gpu_available (from tensorflow.python.framework.test_util) is deprecated and will be removed in a future version.\n",
            "Instructions for updating:\n",
            "Use `tf.config.list_physical_devices('GPU')` instead.\n"
          ]
        },
        {
          "output_type": "stream",
          "name": "stdout",
          "text": [
            "[name: \"/device:CPU:0\"\n",
            "device_type: \"CPU\"\n",
            "memory_limit: 268435456\n",
            "locality {\n",
            "}\n",
            "incarnation: 10699657136456679887\n",
            "xla_global_id: -1\n",
            ", name: \"/device:GPU:0\"\n",
            "device_type: \"GPU\"\n",
            "memory_limit: 14626652160\n",
            "locality {\n",
            "  bus_id: 1\n",
            "  links {\n",
            "  }\n",
            "}\n",
            "incarnation: 7329365961040031966\n",
            "physical_device_desc: \"device: 0, name: Tesla T4, pci bus id: 0000:00:04.0, compute capability: 7.5\"\n",
            "xla_global_id: 416903419\n",
            "]\n",
            "2.15.0\n",
            "Num GPUs Available:  1\n"
          ]
        },
        {
          "output_type": "execute_result",
          "data": {
            "text/plain": [
              "True"
            ]
          },
          "metadata": {},
          "execution_count": 22
        }
      ],
      "source": [
        "# check if any GPU is available\n",
        "import tensorflow as tf\n",
        "from tensorflow.python.client import device_lib\n",
        "print(device_lib.list_local_devices())\n",
        "print(tf.__version__)\n",
        "print(\"Num GPUs Available: \", len(tf.config.experimental.list_physical_devices('GPU')))\n",
        "tf.test.is_gpu_available()"
      ]
    },
    {
      "cell_type": "code",
      "execution_count": null,
      "metadata": {
        "id": "nH3le1L0ApgP"
      },
      "outputs": [],
      "source": [
        "#using keras embedding\n",
        "\n",
        "def rnn_keras(activation,optimizer,epochs,batchsize):\n",
        "  '''\n",
        "  This function fits a model by keras and returns the training history and learned model.\n",
        "  '''\n",
        "  embedding_dim = 100\n",
        "\n",
        "  model = Sequential()\n",
        "  model.add(layers.Embedding(input_dim=vocab_size,\n",
        "                          output_dim=embedding_dim,\n",
        "                          input_length=maxlen))\n",
        "  model.add(layers.SimpleRNN(64))\n",
        "  model.add(Dense(3, activation='softmax'))\n",
        "  model.compile(optimizer=optimizer,\n",
        "                loss='categorical_crossentropy',\n",
        "                metrics=['accuracy'])\n",
        "  history = model.fit(x_train, y_train,\n",
        "                    epochs=epochs,\n",
        "                    verbose=1,\n",
        "                    validation_data=(x_val, y_val),\n",
        "                    batch_size=batchsize)\n",
        "\n",
        "  return history, model"
      ]
    },
    {
      "cell_type": "code",
      "execution_count": null,
      "metadata": {
        "id": "9F36uecY_L9k"
      },
      "outputs": [],
      "source": [
        "# #experiments using keras embeddings\n",
        "# activation = [ \"tanh\"]\n",
        "# optimizer = [\"adam\", \"SGD\", \"RMSprop\", \"Adadelta\"]\n",
        "# epochs = [5,10,15,20]\n",
        "# batchsize = [8,16,32,64,128]\n",
        "\n",
        "# # 1. selecting activation fixing - optimizer = adam, epochs = 5, batch = 16\n",
        "# sel_activation = {}\n",
        "# for i in activation:\n",
        "#   history, model = rnn_keras(i,\"adam\",5,16)\n",
        "#   temp = {i:model.evaluate(x_val,y_val)[1]}\n",
        "#   sel_activation.update(temp)\n",
        "#   keras.backend.clear_session()\n",
        "\n",
        "# sel_activation_final = max(sel_activation, key=sel_activation.get)\n",
        "# print(\"best activation function is \",sel_activation_final)\n",
        "\n",
        "# # 2. selecting optimizer by fixing - activation = best, epochs = 5, batch = 16\n",
        "# sel_optimizer = {}\n",
        "# for i in optimizer:\n",
        "#   history, model = rnn_keras(sel_activation_final,i,5,16)\n",
        "#   temp = {i:model.evaluate(x_val,y_val)[1]}\n",
        "#   sel_optimizer.update(temp)\n",
        "#   keras.backend.clear_session()\n",
        "\n",
        "# sel_optimizer_final = max(sel_optimizer, key=sel_optimizer.get)\n",
        "# print(\"best optimizer is \",sel_optimizer_final)\n",
        "\n",
        "# # 3.  graph epoch vs accuracy score\n",
        "\n",
        "# acc_train_epoch = {}\n",
        "# acc_val_epoch = {}\n",
        "# for i in epochs:\n",
        "#   history, model = rnn_keras(sel_activation_final,sel_optimizer_final,i,16)\n",
        "#   temp_train = {i:model.evaluate(x_train,y_train)[1]}\n",
        "#   temp_val = {i:model.evaluate(x_val,y_val)[1]}\n",
        "#   acc_train_epoch.update(temp_train)\n",
        "#   acc_val_epoch.update(temp_val)\n",
        "#   keras.backend.clear_session()\n",
        "\n",
        "# sel_epoch_final = max(acc_val_epoch, key=acc_val_epoch.get)\n",
        "# print(\"best epoch is \",sel_epoch_final)\n",
        "\n",
        "# df_epoch_train = pd.DataFrame(list(acc_train_epoch.items()), columns=['Epochs', 'Accuracy score'])\n",
        "# df_epoch_val = pd.DataFrame(list(acc_val_epoch.items()), columns=['Epochs', 'Accuracy score'])\n",
        "\n",
        "# df_epoch_val.Epochs = df_epoch_val.Epochs.map(lambda x:str(x))\n",
        "# df_epoch_train.Epochs = df_epoch_train.Epochs.map(lambda x:str(x))\n",
        "\n",
        "# plt.figure()\n",
        "# plt.plot(df_epoch_train.iloc[:,0],df_epoch_train.iloc[:,1],c=\"r\",label=\"train\",linestyle='--', marker='o')\n",
        "# plt.plot(df_epoch_val.iloc[:,0],df_epoch_val.iloc[:,1],c=\"b\",label = \"val\",linestyle='--', marker='o')\n",
        "# plt.title(\"Accuracy score vs Epochs\")\n",
        "# plt.ylabel(\"Accuracy score\")\n",
        "# plt.xlabel(\"Epochs\")\n",
        "# plt.legend()\n",
        "# plt.savefig(\"images/acc-epoch-glove-\"+case, bbox_inches='tight',dpi = 200)\n",
        "\n",
        "\n",
        "# # 4. graph batch size vs accuracy score\n",
        "# acc_train_batch = {}\n",
        "# acc_val_batch = {}\n",
        "# for i in batchsize:\n",
        "#   history, model = rnn_keras(sel_activation_final,sel_optimizer_final,sel_epoch_final,i)\n",
        "#   temp_train = {i:model.evaluate(x_train,y_train)[1]}\n",
        "#   temp_val = {i:model.evaluate(x_val,y_val)[1]}\n",
        "#   acc_train_batch.update(temp_train)\n",
        "#   acc_val_batch.update(temp_val)\n",
        "#   keras.backend.clear_session()\n",
        "\n",
        "# sel_batch_final = max(acc_val_batch, key=acc_val_batch.get)\n",
        "# print(\"best batchsize is \",sel_batch_final)\n",
        "\n",
        "# df_batch_train = pd.DataFrame(list(acc_train_batch.items()), columns=['Batchsize', 'Accuracy score'])\n",
        "# df_batch_val = pd.DataFrame(list(acc_val_batch.items()), columns=['Batchsize', 'Accuracy score'])\n",
        "\n",
        "# df_batch_val.Batchsize = df_batch_val.Batchsize.map(lambda x:str(x))\n",
        "# df_batch_train.Batchsize = df_batch_train.Batchsize.map(lambda x:str(x))\n",
        "\n",
        "# plt.figure()\n",
        "# plt.plot(df_batch_train.iloc[:,0],df_batch_train.iloc[:,1],c=\"r\",label=\"train\",linestyle='--', marker='o')\n",
        "# plt.plot(df_batch_val.iloc[:,0],df_batch_val.iloc[:,1],c=\"b\",label = \"val\",linestyle='--', marker='o')\n",
        "# plt.title(\"Accuracy score vs Batchsize\")\n",
        "# plt.ylabel(\"Accuracy score\")\n",
        "# plt.xlabel(\"Batchsize\")\n",
        "# plt.legend()\n",
        "# plt.savefig(\"images/acc-batch-glove-\"+case, bbox_inches='tight',dpi = 200)\n",
        "\n",
        "# # # 5. best model\n",
        "# # t0 = time()\n",
        "# # history, model = rnn_keras(sel_activation_final,sel_optimizer_final,sel_epoch_final,sel_batch_final)\n",
        "# # pred = np.argmax(model.predict(x_test), axis=-1)\n",
        "# # print(\"test accuracy score = \",accuracy_score(y_pred=pred, y_true=y_test))\n",
        "# # t1 = time()\n",
        "# # print(\"time taken is \", t1-t0)"
      ]
    },
    {
      "cell_type": "code",
      "execution_count": null,
      "metadata": {
        "colab": {
          "base_uri": "https://localhost:8080/"
        },
        "id": "c6D0EFMPjDdA",
        "outputId": "dc18e666-9c0d-4ff7-844e-c582ba50ee93"
      },
      "outputs": [
        {
          "output_type": "stream",
          "name": "stdout",
          "text": [
            "Epoch 1/5\n",
            "602/602 [==============================] - 73s 119ms/step - loss: 0.6443 - accuracy: 0.7394 - val_loss: 0.5230 - val_accuracy: 0.7950\n",
            "Epoch 2/5\n",
            "602/602 [==============================] - 61s 102ms/step - loss: 0.4789 - accuracy: 0.8200 - val_loss: 0.5042 - val_accuracy: 0.8122\n",
            "Epoch 3/5\n",
            "602/602 [==============================] - 62s 103ms/step - loss: 0.4118 - accuracy: 0.8493 - val_loss: 0.4974 - val_accuracy: 0.8006\n",
            "Epoch 4/5\n",
            "602/602 [==============================] - 60s 99ms/step - loss: 0.3569 - accuracy: 0.8711 - val_loss: 0.5378 - val_accuracy: 0.7935\n",
            "Epoch 5/5\n",
            "602/602 [==============================] - 60s 100ms/step - loss: 0.3168 - accuracy: 0.8893 - val_loss: 0.6682 - val_accuracy: 0.7552\n",
            "129/129 [==============================] - 1s 9ms/step\n",
            "test accuracy score =  0.7557011159631247\n",
            "time taken is  319.0985224246979\n"
          ]
        },
        {
          "output_type": "stream",
          "name": "stderr",
          "text": [
            "/usr/local/lib/python3.10/dist-packages/keras/src/engine/training.py:3103: UserWarning: You are saving your model as an HDF5 file via `model.save()`. This file format is considered legacy. We recommend using instead the native Keras format, e.g. `model.save('my_model.keras')`.\n",
            "  saving_api.save_model(\n"
          ]
        },
        {
          "output_type": "stream",
          "name": "stdout",
          "text": [
            "Model saved to saved_models/RNN.h5\n"
          ]
        }
      ],
      "source": [
        "# train model\n",
        "\n",
        "# results of the above search\n",
        "activation = \"tanh\"\n",
        "optimizer = \"RMSprop\"\n",
        "epochs = 5\n",
        "batchsize = 32\n",
        "\n",
        "# run the model\n",
        "t0 = time()\n",
        "history, model = rnn_keras(activation, optimizer, epochs, batchsize)\n",
        "pred = np.argmax(model.predict(x_test), axis=-1)\n",
        "print(\"test accuracy score = \",accuracy_score(y_pred=pred, y_true=y_test))\n",
        "t1 = time()\n",
        "print(\"time taken is \", t1-t0)\n",
        "\n",
        "# Save the model\n",
        "\n",
        "model_path = 'saved_models/RNN.h5'\n",
        "model.save(model_path)\n",
        "print(f'Model saved to {model_path}')"
      ]
    },
    {
      "cell_type": "code",
      "source": [
        "sentiment_scores = model.predict(x_test)\n",
        "pred = np.argmax(sentiment_scores, axis=-1)\n",
        "print(sentiment_scores)\n",
        "print(pred)\n",
        "print(sum(pred == 0))\n",
        "print(sum(pred == 1))\n",
        "print(sum(pred == 2))"
      ],
      "metadata": {
        "colab": {
          "base_uri": "https://localhost:8080/"
        },
        "id": "_AwqsrvTTCH-",
        "outputId": "f8c0300c-c7a6-4498-8d3f-f0826b189411"
      },
      "execution_count": null,
      "outputs": [
        {
          "output_type": "stream",
          "name": "stdout",
          "text": [
            "129/129 [==============================] - 2s 18ms/step\n",
            "[[9.9570894e-01 1.0658712e-03 3.2250986e-03]\n",
            " [4.4918615e-01 2.0744890e-02 5.3006899e-01]\n",
            " [3.6282248e-03 3.3717268e-04 9.9603456e-01]\n",
            " ...\n",
            " [9.2281562e-01 1.6424747e-02 6.0759664e-02]\n",
            " [9.8774952e-01 1.5234808e-03 1.0727038e-02]\n",
            " [2.6659539e-02 4.9385142e-02 9.2395532e-01]]\n",
            "[0 2 2 ... 0 0 2]\n",
            "1717\n",
            "1168\n",
            "1237\n"
          ]
        }
      ]
    },
    {
      "cell_type": "code",
      "execution_count": null,
      "metadata": {
        "colab": {
          "base_uri": "https://localhost:8080/",
          "height": 490
        },
        "id": "MAjUSog5kpN5",
        "outputId": "6c906873-cc6a-42f4-a950-61409d28dab4"
      },
      "outputs": [
        {
          "output_type": "execute_result",
          "data": {
            "text/plain": [
              "<matplotlib.legend.Legend at 0x7832d13ab250>"
            ]
          },
          "metadata": {},
          "execution_count": 29
        },
        {
          "output_type": "display_data",
          "data": {
            "text/plain": [
              "<Figure size 640x480 with 1 Axes>"
            ],
            "image/png": "[encoded data removed]"
          },
          "metadata": {}
        }
      ],
      "source": [
        "# plot the training loss and validation loss\n",
        "plt.figure()\n",
        "plt.plot(history.history['loss'],c=\"r\",label=\"train\",linestyle='--', marker='o')\n",
        "plt.plot(history.history['val_loss'],c=\"b\",label=\"val\",linestyle='--', marker='o')\n",
        "plt.title(\"Loss vs Epochs\")\n",
        "plt.ylabel(\"Loss\")\n",
        "plt.xlabel(\"Epochs\")\n",
        "plt.legend()"
      ]
    },
    {
      "cell_type": "code",
      "execution_count": null,
      "metadata": {
        "colab": {
          "base_uri": "https://localhost:8080/",
          "height": 490
        },
        "id": "sv5DiQa_vRbO",
        "outputId": "d4e85851-99f2-4058-9e15-7797b2cec65b"
      },
      "outputs": [
        {
          "data": {
            "text/plain": [
              "<matplotlib.legend.Legend at 0x7d56980cf970>"
            ]
          },
          "execution_count": 18,
          "metadata": {},
          "output_type": "execute_result"
        },
        {
          "data": {
            "image/png": "[encoded data removed]",
            "text/plain": [
              "<Figure size 640x480 with 1 Axes>"
            ]
          },
          "metadata": {},
          "output_type": "display_data"
        }
      ],
      "source": [
        "# plot the training Accuracy and validation Accuracy\n",
        "plt.figure()\n",
        "plt.plot(history.history['accuracy'],c=\"r\",label=\"train\",linestyle='--', marker='o')\n",
        "plt.plot(history.history['val_accuracy'],c=\"b\",label=\"val\",linestyle='--', marker='o')\n",
        "plt.title(\"Accuracy vs Epochs\")\n",
        "plt.ylabel(\"Accuracy Score\")\n",
        "plt.xlabel(\"Epochs\")\n",
        "plt.legend()"
      ]
    },
    {
      "cell_type": "code",
      "source": [
        "# # Save the model\n",
        "\n",
        "# model_path = 'saved_models/RNN.h5'\n",
        "# model.save(model_path)\n",
        "# print(f'Model saved to {model_path}')"
      ],
      "metadata": {
        "id": "vXubNYMj7ZIj"
      },
      "execution_count": null,
      "outputs": []
    }
  ],
  "metadata": {
    "accelerator": "GPU",
    "colab": {
      "provenance": []
    },
    "kernelspec": {
      "display_name": "Python 3",
      "name": "python3"
    }
  },
  "nbformat": 4,
  "nbformat_minor": 0
}